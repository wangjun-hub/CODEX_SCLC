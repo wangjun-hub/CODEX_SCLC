{
 "cells": [
  {
   "cell_type": "code",
   "execution_count": null,
   "id": "b8ecf118-a68b-414b-adfe-a475fcb07319",
   "metadata": {},
   "outputs": [],
   "source": [
    "# import packages\n",
    "import scanpy as sc\n",
    "import squidpy as sq\n",
    "\n",
    "sys.path.append('./Banksy_py')\n",
    "from banksy.initialize_banksy import initialize_banksy\n",
    "from banksy.embed_banksy import generate_banksy_matrix\n",
    "from banksy_utils.umap_pca import pca_umap\n",
    "from banksy.cluster_methods import run_Leiden_partition\n",
    "\n",
    "\n",
    "adata = sc.read('sample.h5ad')"
   ]
  },
  {
   "cell_type": "code",
   "execution_count": null,
   "id": "acc5d018-4f99-46c9-8005-df51a7514e23",
   "metadata": {},
   "outputs": [],
   "source": [
    "# preprocess\n",
    "adata.layers[\"counts\"] = adata.X.copy()\n",
    "sc.pp.calculate_qc_metrics(adata, percent_top=None, inplace=True)\n",
    "\n",
    "sc.external.pp.scrublet(adata, n_prin_comps=30)\n",
    "adata = adata[adata.obs['predicted_doublet']==False]\n",
    "adata = adata[(adata.obs['nFeature_RNA']>=60) & (adata.obs['nCount_RNA']>=100) & (adata.obs['nCount_negprobes']<0.1*adata.obs['nCount_RNA']) & (adata.obs['nCount_RNA']/adata.obs['nFeature_RNA']>1)]\n",
    "sc.pp.filter_genes(adata, min_cells=3)\n",
    "\n",
    "sc.pp.normalize_total(adata)\n",
    "sc.pp.log1p(adata)\n",
    "adata.raw = adata\n",
    "\n",
    "sc.pp.highly_variable_genes(adata, flavor='seurat', n_top_genes=1000, batch_key='sample')\n",
    "hvg_filter = adata.var[\"highly_variable\"]\n",
    "adata_all = adata.copy()\n",
    "adata = adata[:, hvg_filter]"
   ]
  },
  {
   "cell_type": "code",
   "execution_count": null,
   "id": "96eb25a8-c2bf-40ef-9f43-10bae508652f",
   "metadata": {},
   "outputs": [],
   "source": [
    "# Scanpy umap&cluster\n",
    "adata = sc.pp.scale(adata)\n",
    "sc.tl.pca(adata)\n",
    "sc.pp.neighbors(adata)\n",
    "\n",
    "sc.tl.umap(adata)\n",
    "sc.tl.leiden(adata,key_added='scanpy_leiden',resolution=1)"
   ]
  },
  {
   "cell_type": "code",
   "execution_count": null,
   "id": "e1c5b773-664c-44ae-985a-6cfd8edb4464",
   "metadata": {},
   "outputs": [],
   "source": [
    "# Banksy umap&cluster\n",
    "coord_keys=('x_slide_mm','y_slide_mm','spatial')\n",
    "k_geom=8\n",
    "nbr_weight_decay=\"scaled_gaussian\"\n",
    "max_m=1\n",
    "lambda_list=[0.1]\n",
    "resolutions=[1]\n",
    "\n",
    "banksy_dict = initialize_banksy(\n",
    "    adata,\n",
    "    coord_keys,\n",
    "    k_geom_sample,\n",
    "    nbr_weight_decay=nbr_weight_decay,\n",
    "    max_m=max_m,\n",
    "    plt_edge_hist=False,\n",
    "    plt_nbr_weights=False,\n",
    "    plt_agf_angles=False,\n",
    "    plt_theta=False\n",
    ")\n",
    "banksy_dict, banksy_matrix = generate_banksy_matrix(adata, banksy_dict, lambda_list, max_m, variance_balance=True)\n",
    "pca_umap(\n",
    "    banksy_dict,\n",
    "    pca_dims = [20],\n",
    "    add_umap = True,\n",
    "    plt_remaining_var = False\n",
    ")\n",
    "results_df, max_num_labels = run_Leiden_partition(\n",
    "    banksy_dict,\n",
    "    resolutions,\n",
    "    num_nn = 50,\n",
    "    num_iterations = -1,\n",
    "    partition_seed = 1234,\n",
    "    match_labels = True\n",
    ")\n",
    "\n",
    "banksy_adata = banksy_dict[nbr_weight_decay][0.1]['adata']\n",
    "reorder_banksy_adata = banksy_adata[adata.obs_names]\n",
    "adata.obsm['X_umap'] = reorder_banksy_adata.obsm['reduced_pc_20_umap']\n",
    "adata.obs['banksy_leiden'] = reorder_banksy_adata.obs['scaled_gaussian_pc20_nc0.1_r1']"
   ]
  },
  {
   "cell_type": "code",
   "execution_count": null,
   "id": "ce3f2edf-3556-4be7-9018-eda4949e2841",
   "metadata": {},
   "outputs": [],
   "source": [
    "# squidpy co_occurrence\n",
    "sq.gr.spatial_neighbors(adata, coord_type=\"generic\", delaunay=True)\n",
    "sq.gr.co_occurrence(adata,spatial_key='spatial',cluster_key='sclc_celltype')\n",
    "sq.pl.co_occurrence(\n",
    "    adata,\n",
    "    cluster_key='sclc_celltype',\n",
    "    clusters='Endothelial'\n",
    ")"
   ]
  }
 ],
 "metadata": {
  "kernelspec": {
   "display_name": "Python 3 (ipykernel)",
   "language": "python",
   "name": "python3"
  },
  "language_info": {
   "codemirror_mode": {
    "name": "ipython",
    "version": 3
   },
   "file_extension": ".py",
   "mimetype": "text/x-python",
   "name": "python",
   "nbconvert_exporter": "python",
   "pygments_lexer": "ipython3",
   "version": "3.9.20"
  }
 },
 "nbformat": 4,
 "nbformat_minor": 5
}
